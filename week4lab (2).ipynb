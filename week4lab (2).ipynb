{
 "cells": [
  {
   "cell_type": "markdown",
   "id": "306db7ca-f96b-4900-973c-9dbebb6129b2",
   "metadata": {},
   "source": [
    "# Unsupervised and Supervised Models for Classifying BBC Articles.\n",
    " __By John Kostas__\n",
    " <br> \n",
    "\n",
    "## Introduction\n",
    "The goal of this project is to classify different articles from the BBC into five different categories. In order to do this I will perform basic EDA\n",
    "and data cleaning, clean the words through basic retreival and text mining, and quantify the relevant words in each article. I will then train a series of models that will be used to predict the category for each article. Given that we already have labeled data this approach seems like it would be best accomplished using supervised algorithms, however, I will attempt to find latent factors using Non-negative Matrix Factorization."
   ]
  },
  {
   "cell_type": "code",
   "execution_count": 1848,
   "id": "13340c09-145c-4686-bdcd-115e836c732b",
   "metadata": {},
   "outputs": [
    {
     "name": "stderr",
     "output_type": "stream",
     "text": [
      "[nltk_data] Downloading package punkt to\n",
      "[nltk_data]     C:\\Users\\jkost\\AppData\\Roaming\\nltk_data...\n",
      "[nltk_data]   Package punkt is already up-to-date!\n",
      "[nltk_data] Downloading package stopwords to\n",
      "[nltk_data]     C:\\Users\\jkost\\AppData\\Roaming\\nltk_data...\n",
      "[nltk_data]   Package stopwords is already up-to-date!\n",
      "[nltk_data] Downloading package wordnet to\n",
      "[nltk_data]     C:\\Users\\jkost\\AppData\\Roaming\\nltk_data...\n",
      "[nltk_data]   Package wordnet is already up-to-date!\n"
     ]
    }
   ],
   "source": [
    "#import libraries\n",
    "import pandas as pd\n",
    "import seaborn as sns\n",
    "import numpy as np\n",
    "import matplotlib.pyplot as plt\n",
    "from sklearn.feature_extraction.text import TfidfVectorizer\n",
    "\n",
    "import re\n",
    "import string\n",
    "import nltk\n",
    "nltk.download('punkt')\n",
    "nltk.download('stopwords')\n",
    "from nltk.corpus import stopwords\n",
    "import nltk\n",
    "nltk.download('wordnet')\n",
    "from sklearn.decomposition import NMF\n",
    "from sklearn.model_selection import train_test_split\n",
    "\n",
    "import itertools\n",
    "from collections import defaultdict\n",
    "import collections\n",
    "from sklearn.metrics import accuracy_score\n",
    "from itertools import permutations\n",
    "from sklearn.preprocessing import LabelEncoder\n",
    "from sklearn.model_selection import GridSearchCV\n",
    "from sklearn.tree import DecisionTreeClassifier\n",
    "from sklearn.linear_model import LogisticRegression\n",
    "from sklearn.neighbors import KNeighborsClassifier\n",
    "from sklearn.ensemble import AdaBoostClassifier"
   ]
  },
  {
   "cell_type": "code",
   "execution_count": 1662,
   "id": "3bfcfe4a-b30e-4263-bdf4-a102deb77929",
   "metadata": {},
   "outputs": [],
   "source": [
    "#filepaths\n",
    "train = pd.read_csv('BBC News Train.csv')\n",
    "test = pd.read_csv('BBC News Test.csv')"
   ]
  },
  {
   "cell_type": "markdown",
   "id": "c662a348-43a9-4c17-b3a7-010a6eb0291d",
   "metadata": {},
   "source": [
    "# 1. Exploratory Data Analysis"
   ]
  },
  {
   "cell_type": "code",
   "execution_count": 1372,
   "id": "a8b6d5cf-0e2a-42d0-8afc-687f3a1c8693",
   "metadata": {},
   "outputs": [
    {
     "name": "stdout",
     "output_type": "stream",
     "text": [
      "<class 'pandas.core.frame.DataFrame'>\n",
      "RangeIndex: 1490 entries, 0 to 1489\n",
      "Data columns (total 3 columns):\n",
      " #   Column     Non-Null Count  Dtype \n",
      "---  ------     --------------  ----- \n",
      " 0   ArticleId  1490 non-null   int64 \n",
      " 1   Text       1490 non-null   object\n",
      " 2   Category   1490 non-null   object\n",
      "dtypes: int64(1), object(2)\n",
      "memory usage: 35.1+ KB\n"
     ]
    },
    {
     "data": {
      "text/html": [
       "<div>\n",
       "<style scoped>\n",
       "    .dataframe tbody tr th:only-of-type {\n",
       "        vertical-align: middle;\n",
       "    }\n",
       "\n",
       "    .dataframe tbody tr th {\n",
       "        vertical-align: top;\n",
       "    }\n",
       "\n",
       "    .dataframe thead th {\n",
       "        text-align: right;\n",
       "    }\n",
       "</style>\n",
       "<table border=\"1\" class=\"dataframe\">\n",
       "  <thead>\n",
       "    <tr style=\"text-align: right;\">\n",
       "      <th></th>\n",
       "      <th>ArticleId</th>\n",
       "      <th>Text</th>\n",
       "      <th>Category</th>\n",
       "    </tr>\n",
       "  </thead>\n",
       "  <tbody>\n",
       "    <tr>\n",
       "      <th>0</th>\n",
       "      <td>1833</td>\n",
       "      <td>worldcom ex-boss launches defence lawyers defe...</td>\n",
       "      <td>business</td>\n",
       "    </tr>\n",
       "    <tr>\n",
       "      <th>1</th>\n",
       "      <td>154</td>\n",
       "      <td>german business confidence slides german busin...</td>\n",
       "      <td>business</td>\n",
       "    </tr>\n",
       "    <tr>\n",
       "      <th>2</th>\n",
       "      <td>1101</td>\n",
       "      <td>bbc poll indicates economic gloom citizens in ...</td>\n",
       "      <td>business</td>\n",
       "    </tr>\n",
       "    <tr>\n",
       "      <th>3</th>\n",
       "      <td>1976</td>\n",
       "      <td>lifestyle  governs mobile choice  faster  bett...</td>\n",
       "      <td>tech</td>\n",
       "    </tr>\n",
       "    <tr>\n",
       "      <th>4</th>\n",
       "      <td>917</td>\n",
       "      <td>enron bosses in $168m payout eighteen former e...</td>\n",
       "      <td>business</td>\n",
       "    </tr>\n",
       "  </tbody>\n",
       "</table>\n",
       "</div>"
      ],
      "text/plain": [
       "   ArticleId                                               Text  Category\n",
       "0       1833  worldcom ex-boss launches defence lawyers defe...  business\n",
       "1        154  german business confidence slides german busin...  business\n",
       "2       1101  bbc poll indicates economic gloom citizens in ...  business\n",
       "3       1976  lifestyle  governs mobile choice  faster  bett...      tech\n",
       "4        917  enron bosses in $168m payout eighteen former e...  business"
      ]
     },
     "execution_count": 1372,
     "metadata": {},
     "output_type": "execute_result"
    }
   ],
   "source": [
    "#Get an idea of what the data looks like.\n",
    "train.info()\n",
    "train.head()"
   ]
  },
  {
   "cell_type": "code",
   "execution_count": 1374,
   "id": "9a44ccb6-0691-461e-80cd-81be47c8ab26",
   "metadata": {},
   "outputs": [
    {
     "data": {
      "text/plain": [
       "ArticleId    1490\n",
       "Text         1440\n",
       "Category        5\n",
       "dtype: int64"
      ]
     },
     "execution_count": 1374,
     "metadata": {},
     "output_type": "execute_result"
    }
   ],
   "source": [
    "train.nunique()"
   ]
  },
  {
   "cell_type": "code",
   "execution_count": 1377,
   "id": "5bad2ce1-4264-4ae5-96cd-97a62c54fe9b",
   "metadata": {},
   "outputs": [
    {
     "name": "stdout",
     "output_type": "stream",
     "text": [
      "Category\n",
      "sport            346\n",
      "business         336\n",
      "politics         274\n",
      "entertainment    273\n",
      "tech             261\n",
      "Name: count, dtype: int64\n"
     ]
    }
   ],
   "source": [
    "print(train['Category'].value_counts())"
   ]
  },
  {
   "cell_type": "code",
   "execution_count": 1379,
   "id": "65bc9b54-c469-4af1-919a-69ae99d69c3e",
   "metadata": {},
   "outputs": [
    {
     "data": {
      "image/png": "[encoded data removed]",
      "text/plain": [
       "<Figure size 640x480 with 1 Axes>"
      ]
     },
     "metadata": {},
     "output_type": "display_data"
    }
   ],
   "source": [
    "train['Category'].unique()\n",
    "\n",
    "fig, ax = plt.subplots()\n",
    "\n",
    "\n",
    "\n",
    "ax.bar(train['Category'].value_counts().index, train['Category'].value_counts())\n",
    "\n",
    "ax.set_ylabel('Number of Articles')\n",
    "ax.set_xlabel('Category')\n",
    "ax.set_title('Articles per Category')\n",
    "\n",
    "plt.show()"
   ]
  },
  {
   "cell_type": "code",
   "execution_count": 1380,
   "id": "2b139588-6115-49be-94f1-8a701e803fce",
   "metadata": {},
   "outputs": [
    {
     "name": "stdout",
     "output_type": "stream",
     "text": [
      "301\n"
     ]
    },
    {
     "data": {
      "image/png": "[encoded data removed]",
      "text/plain": [
       "<Figure size 640x480 with 1 Axes>"
      ]
     },
     "metadata": {},
     "output_type": "display_data"
    }
   ],
   "source": [
    "print(len(train['Text'][0].split()))\n",
    "\n",
    "df = train.groupby('Category').Text.apply(lambda x: x.str.split().str.len().mean())\n",
    "\n",
    "fig, ax = plt.subplots()\n",
    "\n",
    "ax.bar(train['Category'].value_counts().index, df)\n",
    "\n",
    "ax.set_ylabel('Word Count')\n",
    "ax.set_xlabel('Category')\n",
    "ax.set_title('Average Word Count Per Category')\n",
    "\n",
    "plt.show()"
   ]
  },
  {
   "cell_type": "markdown",
   "id": "d7e40fe3-cdb4-47d5-a800-91ca225e4161",
   "metadata": {},
   "source": [
    "I noticed there were some duplicates earlier, so I will confirm that these duplicates are in the same categories, (ie. not any articles in multiple categories) then drop these rows."
   ]
  },
  {
   "cell_type": "code",
   "execution_count": 1382,
   "id": "e9dbd480-5e66-4f1d-ad90-00c238554c33",
   "metadata": {},
   "outputs": [
    {
     "name": "stdout",
     "output_type": "stream",
     "text": [
      "50\n",
      "50\n"
     ]
    }
   ],
   "source": [
    "print(train['Text'].duplicated().sum())\n",
    "print(train.duplicated(subset = ['Text','Category']).sum())"
   ]
  },
  {
   "cell_type": "markdown",
   "id": "497624b5-85ba-46b2-95ac-e6e44fee2fb7",
   "metadata": {},
   "source": [
    "All the duplicates are in the same category so I will drop these rows. Ideally I would have done this at the beginning of EDA, but in this case I wanted to confirm the articles were not considered to be multiple categories by BBC."
   ]
  },
  {
   "cell_type": "code",
   "execution_count": 1383,
   "id": "4a2e332a-a2ca-4726-932f-b3eb68fc83e3",
   "metadata": {},
   "outputs": [
    {
     "name": "stdout",
     "output_type": "stream",
     "text": [
      "<class 'pandas.core.frame.DataFrame'>\n",
      "Index: 1440 entries, 0 to 1489\n",
      "Data columns (total 3 columns):\n",
      " #   Column     Non-Null Count  Dtype \n",
      "---  ------     --------------  ----- \n",
      " 0   ArticleId  1440 non-null   int64 \n",
      " 1   Text       1440 non-null   object\n",
      " 2   Category   1440 non-null   object\n",
      "dtypes: int64(1), object(2)\n",
      "memory usage: 45.0+ KB\n"
     ]
    }
   ],
   "source": [
    "train = train.drop_duplicates(subset=['Text'])\n",
    "train.info()"
   ]
  },
  {
   "cell_type": "markdown",
   "id": "0674f5da-d0b1-440a-8d3c-fd5996583cc6",
   "metadata": {},
   "source": [
    "I am going to split up the data now. I will perform model training on 85% of the data, then use the remaning 15% of the data to evaluate and fine-tune the models. I will reserve the test data for the very end when evaluating performance of different models."
   ]
  },
  {
   "cell_type": "code",
   "execution_count": 1387,
   "id": "f23ab25d-447c-4cd0-aa38-4bc6c96b0421",
   "metadata": {},
   "outputs": [
    {
     "name": "stdout",
     "output_type": "stream",
     "text": [
      "<class 'pandas.core.frame.DataFrame'>\n",
      "Index: 1224 entries, 1206 to 694\n",
      "Data columns (total 3 columns):\n",
      " #   Column     Non-Null Count  Dtype \n",
      "---  ------     --------------  ----- \n",
      " 0   ArticleId  1224 non-null   int64 \n",
      " 1   Text       1224 non-null   object\n",
      " 2   Category   1224 non-null   object\n",
      "dtypes: int64(1), object(2)\n",
      "memory usage: 38.2+ KB\n",
      "None\n",
      "<class 'pandas.core.frame.DataFrame'>\n",
      "Index: 216 entries, 34 to 1233\n",
      "Data columns (total 3 columns):\n",
      " #   Column     Non-Null Count  Dtype \n",
      "---  ------     --------------  ----- \n",
      " 0   ArticleId  216 non-null    int64 \n",
      " 1   Text       216 non-null    object\n",
      " 2   Category   216 non-null    object\n",
      "dtypes: int64(1), object(2)\n",
      "memory usage: 6.8+ KB\n"
     ]
    }
   ],
   "source": [
    "\n",
    "X_train, y_train, X_test = train, train['Category'].values, test['Text'].values\n",
    "X_train_, X_val_, y_train_, y_val_ = train_test_split(X_train, y_train, test_size=0.15, random_state=0)\n",
    "print(X_train_.info())\n",
    "X_val_.info()"
   ]
  },
  {
   "cell_type": "markdown",
   "id": "12bbf0b1-2e30-4e0e-aeee-368cc9d557bb",
   "metadata": {},
   "source": [
    "I will start off by looking at what one of the files looks like."
   ]
  },
  {
   "cell_type": "code",
   "execution_count": 1389,
   "id": "a106b4ba-3e5c-46a9-a639-aaee50311a8f",
   "metadata": {},
   "outputs": [
    {
     "name": "stdout",
     "output_type": "stream",
     "text": [
      "worldcom ex-boss launches defence lawyers defending former worldcom chief bernie ebbers against a battery of fraud charges have called a company whistleblower as their first witness.  cynthia cooper  worldcom s ex-head of internal accounting  alerted directors to irregular accounting practices at the us telecoms giant in 2002. her warnings led to the collapse of the firm following the discovery of an $11bn (£5.7bn) accounting fraud. mr ebbers has pleaded not guilty to charges of fraud and conspiracy.  prosecution lawyers have argued that mr ebbers orchestrated a series of accounting tricks at worldcom  ordering employees to hide expenses and inflate revenues to meet wall street earnings estimates. but ms cooper  who now runs her own consulting business  told a jury in new york on wednesday that external auditors arthur andersen had approved worldcom s accounting in early 2001 and 2002. she said andersen had given a  green light  to the procedures and practices used by worldcom. mr ebber s lawyers have said he was unaware of the fraud  arguing that auditors did not alert him to any problems.  ms cooper also said that during shareholder meetings mr ebbers often passed over technical questions to the company s finance chief  giving only  brief  answers himself. the prosecution s star witness  former worldcom financial chief scott sullivan  has said that mr ebbers ordered accounting adjustments at the firm  telling him to  hit our books . however  ms cooper said mr sullivan had not mentioned  anything uncomfortable  about worldcom s accounting during a 2001 audit committee meeting. mr ebbers could face a jail sentence of 85 years if convicted of all the charges he is facing. worldcom emerged from bankruptcy protection in 2004  and is now known as mci. last week  mci agreed to a buyout by verizon communications in a deal valued at $6.75bn.\n"
     ]
    }
   ],
   "source": [
    "print(X_train_['Text'][0])"
   ]
  },
  {
   "cell_type": "markdown",
   "id": "d1f5dcc4-d502-41dd-b549-8be73a0df419",
   "metadata": {},
   "source": [
    "# 2. NLP/Word Embedding\n",
    "This step will require four substeps in order to get the data ready for model training and tuning. Given that I am working with articles, I need a process to get rid of unneccesary characters, remove unnecessary words, make words more uniform, and determine what words are important to keep.\n",
    "## Preprocessing\n",
    "#### Removing unnecessary punctuation.\n",
    "Get rid of any punctuation as this will not help with grouping the documents. It could be argued that exclamation and question marks could be useful, but for now we will just focus on the words.\n",
    "#### Stop word removal\n",
    "There are a number of words that are very common and don't provide any details or hints on what a document is about. Words like 'a' 'the' 'is' etc. are examples of stop words. These must be removed to get to the \"core\" of what the document is about.\n",
    "#### Lemmatization\n",
    "Lemmatization will remove any a prefix and suffix from a word then convert it to its dictionary word. The idea is to get the \"root\" of the word. For example reading and rereading would both convert to read.\n",
    "## TF-IDF\n",
    "This acronym stands for Term Frequency- Inverse Document Frequency. This will quantify words in documents and compute a score to determine that word's significance in the entire dataset. TF is just the number of certain terms in a document. Words that are in every document will not necessary be useful, neither will words that are only in one document. This is were IDF comes in. IDF shows how rare that specific word is across all documents. It is possible to play around with these parameters in order to better fit data."
   ]
  },
  {
   "cell_type": "code",
   "execution_count": 1391,
   "id": "cc1c7a22-dd3d-4098-843f-688e9786aa20",
   "metadata": {},
   "outputs": [],
   "source": [
    "def preprocess (dataframe):\n",
    "    dataframe['Text'] = dataframe['Text'].replace(r'[^\\w\\s]', '', regex=True)\n",
    "    dataframe['Text'] = dataframe['Text'].str.lower()\n",
    "    dataframe['Text'] = dataframe['Text'].apply(lambda x: x.replace('  ', ' '))\n",
    "    dataframe['Text'] = dataframe['Text'].apply(lambda x: re.sub(r'\\d+','',x))\n",
    "    dataframe['Text'] = dataframe['Text'].apply(lambda x: nltk.word_tokenize(x))\n",
    "\n",
    "    #remove stopwords\n",
    "    "
   ]
  },
  {
   "cell_type": "code",
   "execution_count": 1393,
   "id": "1483054f-558c-4fbd-a405-ae41c5a913bb",
   "metadata": {},
   "outputs": [
    {
     "name": "stdout",
     "output_type": "stream",
     "text": [
      "['worldcom', 'exboss', 'launches', 'defence', 'lawyers', 'defending', 'former', 'worldcom', 'chief', 'bernie', 'ebbers', 'against', 'a', 'battery', 'of', 'fraud', 'charges', 'have', 'called', 'a', 'company', 'whistleblower', 'as', 'their', 'first', 'witness', 'cynthia', 'cooper', 'worldcom', 's', 'exhead', 'of', 'internal', 'accounting', 'alerted', 'directors', 'to', 'irregular', 'accounting', 'practices', 'at', 'the', 'us', 'telecoms', 'giant', 'in', 'her', 'warnings', 'led', 'to', 'the', 'collapse', 'of', 'the', 'firm', 'following', 'the', 'discovery', 'of', 'an', 'bn', 'bn', 'accounting', 'fraud', 'mr', 'ebbers', 'has', 'pleaded', 'not', 'guilty', 'to', 'charges', 'of', 'fraud', 'and', 'conspiracy', 'prosecution', 'lawyers', 'have', 'argued', 'that', 'mr', 'ebbers', 'orchestrated', 'a', 'series', 'of', 'accounting', 'tricks', 'at', 'worldcom', 'ordering', 'employees', 'to', 'hide', 'expenses', 'and', 'inflate', 'revenues', 'to', 'meet', 'wall', 'street', 'earnings', 'estimates', 'but', 'ms', 'cooper', 'who', 'now', 'runs', 'her', 'own', 'consulting', 'business', 'told', 'a', 'jury', 'in', 'new', 'york', 'on', 'wednesday', 'that', 'external', 'auditors', 'arthur', 'andersen', 'had', 'approved', 'worldcom', 's', 'accounting', 'in', 'early', 'and', 'she', 'said', 'andersen', 'had', 'given', 'a', 'green', 'light', 'to', 'the', 'procedures', 'and', 'practices', 'used', 'by', 'worldcom', 'mr', 'ebber', 's', 'lawyers', 'have', 'said', 'he', 'was', 'unaware', 'of', 'the', 'fraud', 'arguing', 'that', 'auditors', 'did', 'not', 'alert', 'him', 'to', 'any', 'problems', 'ms', 'cooper', 'also', 'said', 'that', 'during', 'shareholder', 'meetings', 'mr', 'ebbers', 'often', 'passed', 'over', 'technical', 'questions', 'to', 'the', 'company', 's', 'finance', 'chief', 'giving', 'only', 'brief', 'answers', 'himself', 'the', 'prosecution', 's', 'star', 'witness', 'former', 'worldcom', 'financial', 'chief', 'scott', 'sullivan', 'has', 'said', 'that', 'mr', 'ebbers', 'ordered', 'accounting', 'adjustments', 'at', 'the', 'firm', 'telling', 'him', 'to', 'hit', 'our', 'books', 'however', 'ms', 'cooper', 'said', 'mr', 'sullivan', 'had', 'not', 'mentioned', 'anything', 'uncomfortable', 'about', 'worldcom', 's', 'accounting', 'during', 'a', 'audit', 'committee', 'meeting', 'mr', 'ebbers', 'could', 'face', 'a', 'jail', 'sentence', 'of', 'years', 'if', 'convicted', 'of', 'all', 'the', 'charges', 'he', 'is', 'facing', 'worldcom', 'emerged', 'from', 'bankruptcy', 'protection', 'in', 'and', 'is', 'now', 'known', 'as', 'mci', 'last', 'week', 'mci', 'agreed', 'to', 'a', 'buyout', 'by', 'verizon', 'communications', 'in', 'a', 'deal', 'valued', 'at', 'bn']\n"
     ]
    }
   ],
   "source": [
    "copy = X_train_.copy()\n",
    "preprocess(copy)\n",
    "\n",
    "print(copy['Text'][0])"
   ]
  },
  {
   "cell_type": "code",
   "execution_count": 1395,
   "id": "54774deb-d3c4-4257-839c-10b88ce71e7d",
   "metadata": {},
   "outputs": [],
   "source": [
    "def removeStopwords(dataframe):\n",
    "    stop_words = set(stopwords.words('english'))\n",
    "    dataframe['Text'] = dataframe['Text'].apply(lambda x: [word for word in x if word not in stop_words])"
   ]
  },
  {
   "cell_type": "code",
   "execution_count": 1397,
   "id": "7521e1b1-8e01-4fc5-8ca4-b080942b6228",
   "metadata": {},
   "outputs": [
    {
     "name": "stdout",
     "output_type": "stream",
     "text": [
      "['worldcom', 'exboss', 'launches', 'defence', 'lawyers', 'defending', 'former', 'worldcom', 'chief', 'bernie', 'ebbers', 'battery', 'fraud', 'charges', 'called', 'company', 'whistleblower', 'first', 'witness', 'cynthia', 'cooper', 'worldcom', 'exhead', 'internal', 'accounting', 'alerted', 'directors', 'irregular', 'accounting', 'practices', 'us', 'telecoms', 'giant', 'warnings', 'led', 'collapse', 'firm', 'following', 'discovery', 'bn', 'bn', 'accounting', 'fraud', 'mr', 'ebbers', 'pleaded', 'guilty', 'charges', 'fraud', 'conspiracy', 'prosecution', 'lawyers', 'argued', 'mr', 'ebbers', 'orchestrated', 'series', 'accounting', 'tricks', 'worldcom', 'ordering', 'employees', 'hide', 'expenses', 'inflate', 'revenues', 'meet', 'wall', 'street', 'earnings', 'estimates', 'ms', 'cooper', 'runs', 'consulting', 'business', 'told', 'jury', 'new', 'york', 'wednesday', 'external', 'auditors', 'arthur', 'andersen', 'approved', 'worldcom', 'accounting', 'early', 'said', 'andersen', 'given', 'green', 'light', 'procedures', 'practices', 'used', 'worldcom', 'mr', 'ebber', 'lawyers', 'said', 'unaware', 'fraud', 'arguing', 'auditors', 'alert', 'problems', 'ms', 'cooper', 'also', 'said', 'shareholder', 'meetings', 'mr', 'ebbers', 'often', 'passed', 'technical', 'questions', 'company', 'finance', 'chief', 'giving', 'brief', 'answers', 'prosecution', 'star', 'witness', 'former', 'worldcom', 'financial', 'chief', 'scott', 'sullivan', 'said', 'mr', 'ebbers', 'ordered', 'accounting', 'adjustments', 'firm', 'telling', 'hit', 'books', 'however', 'ms', 'cooper', 'said', 'mr', 'sullivan', 'mentioned', 'anything', 'uncomfortable', 'worldcom', 'accounting', 'audit', 'committee', 'meeting', 'mr', 'ebbers', 'could', 'face', 'jail', 'sentence', 'years', 'convicted', 'charges', 'facing', 'worldcom', 'emerged', 'bankruptcy', 'protection', 'known', 'mci', 'last', 'week', 'mci', 'agreed', 'buyout', 'verizon', 'communications', 'deal', 'valued', 'bn']\n"
     ]
    }
   ],
   "source": [
    "removeStopwords(copy)\n",
    "\n",
    "print(copy['Text'][0])"
   ]
  },
  {
   "cell_type": "code",
   "execution_count": 1399,
   "id": "1d5280a7-102d-4d4b-80e7-28cbf5457b27",
   "metadata": {},
   "outputs": [],
   "source": [
    "def lemmat(dataframe):\n",
    "    lemmatizer = nltk.WordNetLemmatizer()\n",
    "    dataframe['Text'] = dataframe['Text'].apply(lambda x: [lemmatizer.lemmatize(single) for single in x ])"
   ]
  },
  {
   "cell_type": "code",
   "execution_count": 1401,
   "id": "bb67e324-a1c5-4905-b815-0df943bfea2c",
   "metadata": {},
   "outputs": [
    {
     "name": "stdout",
     "output_type": "stream",
     "text": [
      "['worldcom', 'exboss', 'launch', 'defence', 'lawyer', 'defending', 'former', 'worldcom', 'chief', 'bernie', 'ebbers', 'battery', 'fraud', 'charge', 'called', 'company', 'whistleblower', 'first', 'witness', 'cynthia', 'cooper', 'worldcom', 'exhead', 'internal', 'accounting', 'alerted', 'director', 'irregular', 'accounting', 'practice', 'u', 'telecom', 'giant', 'warning', 'led', 'collapse', 'firm', 'following', 'discovery', 'bn', 'bn', 'accounting', 'fraud', 'mr', 'ebbers', 'pleaded', 'guilty', 'charge', 'fraud', 'conspiracy', 'prosecution', 'lawyer', 'argued', 'mr', 'ebbers', 'orchestrated', 'series', 'accounting', 'trick', 'worldcom', 'ordering', 'employee', 'hide', 'expense', 'inflate', 'revenue', 'meet', 'wall', 'street', 'earnings', 'estimate', 'm', 'cooper', 'run', 'consulting', 'business', 'told', 'jury', 'new', 'york', 'wednesday', 'external', 'auditor', 'arthur', 'andersen', 'approved', 'worldcom', 'accounting', 'early', 'said', 'andersen', 'given', 'green', 'light', 'procedure', 'practice', 'used', 'worldcom', 'mr', 'ebber', 'lawyer', 'said', 'unaware', 'fraud', 'arguing', 'auditor', 'alert', 'problem', 'm', 'cooper', 'also', 'said', 'shareholder', 'meeting', 'mr', 'ebbers', 'often', 'passed', 'technical', 'question', 'company', 'finance', 'chief', 'giving', 'brief', 'answer', 'prosecution', 'star', 'witness', 'former', 'worldcom', 'financial', 'chief', 'scott', 'sullivan', 'said', 'mr', 'ebbers', 'ordered', 'accounting', 'adjustment', 'firm', 'telling', 'hit', 'book', 'however', 'm', 'cooper', 'said', 'mr', 'sullivan', 'mentioned', 'anything', 'uncomfortable', 'worldcom', 'accounting', 'audit', 'committee', 'meeting', 'mr', 'ebbers', 'could', 'face', 'jail', 'sentence', 'year', 'convicted', 'charge', 'facing', 'worldcom', 'emerged', 'bankruptcy', 'protection', 'known', 'mci', 'last', 'week', 'mci', 'agreed', 'buyout', 'verizon', 'communication', 'deal', 'valued', 'bn']\n"
     ]
    }
   ],
   "source": [
    "lemmat(copy)\n",
    "print(copy['Text'][0])"
   ]
  },
  {
   "cell_type": "code",
   "execution_count": 1403,
   "id": "10bc0af3-d642-4275-9791-4ceb34b2d1a6",
   "metadata": {},
   "outputs": [
    {
     "name": "stdout",
     "output_type": "stream",
     "text": [
      "Category\n",
      "business          80\n",
      "entertainment     88\n",
      "politics          47\n",
      "sport             61\n",
      "tech             104\n",
      "Name: Text, dtype: int64\n",
      "Category\n",
      "business          505\n",
      "entertainment    1230\n",
      "politics         1632\n",
      "sport             911\n",
      "tech              829\n",
      "Name: Text, dtype: int64\n",
      "Category\n",
      "business         191.291525\n",
      "entertainment    190.423256\n",
      "politics         250.191964\n",
      "sport            180.584459\n",
      "tech             284.432990\n",
      "Name: Text, dtype: float64\n"
     ]
    }
   ],
   "source": [
    "print(copy.groupby('Category').Text.apply(lambda x: x.str.len().min()))\n",
    "print(copy.groupby('Category').Text.apply(lambda x: x.str.len().max()))\n",
    "print(copy.groupby('Category').Text.apply(lambda x: x.str.len().mean()))"
   ]
  },
  {
   "cell_type": "code",
   "execution_count": 1588,
   "id": "9ffbe5a2-df27-4456-8bb0-ff0e0bd8f607",
   "metadata": {},
   "outputs": [],
   "source": [
    "#Helper function \n",
    "def label_permute_compare(ytdf,yp,n=5):\n",
    "    yp = np.array([np.argmax(i) for i in yp])\n",
    "    y_true = np.array(ytdf).reshape(-1)\n",
    "    uniq_labels = np.unique(y_true)\n",
    "    perm = itertools.permutations(range(len(uniq_labels)))\n",
    "    best_permutation = None \n",
    "    best_accuracy = 0\n",
    "    for p in perm:\n",
    "        p_label_map = {label: int_label for label, int_label in zip(uniq_labels, p)}\n",
    "        p_labels = np.array([p_label_map[label] for label in y_true])\n",
    "        acc = np.mean(p_labels == yp)\n",
    "        if acc > best_accuracy:\n",
    "            best_permutation = {num: l for num, l in zip(p, uniq_labels)}\n",
    "            best_accuracy = acc\n",
    "    return best_accuracy, best_permutation\n",
    "\n",
    "    \n",
    "    "
   ]
  },
  {
   "cell_type": "code",
   "execution_count": 1590,
   "id": "e74fe001-dcf9-4c67-9939-83f3be172dfd",
   "metadata": {},
   "outputs": [],
   "source": [
    "def identity_tokenizer(text):\n",
    "  return text\n",
    "tfidf = TfidfVectorizer(tokenizer=identity_tokenizer,min_df=0.0, max_df = 1.0, norm = 'l1', stop_words = None,lowercase=False,token_pattern=None)\n",
    "tfidf_train = tfidf.fit_transform(copy['Text'])"
   ]
  },
  {
   "cell_type": "markdown",
   "id": "c12202c6-ddc9-4c1d-b0e1-1754c25e8fe0",
   "metadata": {},
   "source": [
    "# 3. Building/Training Models"
   ]
  },
  {
   "cell_type": "code",
   "execution_count": 1592,
   "id": "845f90e4-7c95-4f79-8835-396c0e2ae310",
   "metadata": {},
   "outputs": [
    {
     "data": {
      "text/plain": [
       "(0.9109477124183006,\n",
       " {2: 'business', 3: 'entertainment', 0: 'politics', 1: 'sport', 4: 'tech'})"
      ]
     },
     "execution_count": 1592,
     "metadata": {},
     "output_type": "execute_result"
    }
   ],
   "source": [
    "model = NMF(n_components = 5)\n",
    "W = model.fit_transform(tfidf_train)\n",
    "H = model.components_\n",
    "label_permute_compare(y_train_,W,n=5)"
   ]
  },
  {
   "cell_type": "code",
   "execution_count": 1594,
   "id": "48875bd3-8033-4277-8c0d-02442265a605",
   "metadata": {},
   "outputs": [
    {
     "data": {
      "text/plain": [
       "(0.9019607843137255,\n",
       " {2: 'business', 3: 'entertainment', 0: 'politics', 1: 'sport', 4: 'tech'})"
      ]
     },
     "execution_count": 1594,
     "metadata": {},
     "output_type": "execute_result"
    }
   ],
   "source": [
    "tfidf1 = TfidfVectorizer(min_df=0.0, max_df = 1.0, norm = 'l1', stop_words = 'english')\n",
    "tfidf1_train = tfidf1.fit_transform(X_train_['Text'])\n",
    "model = NMF(n_components = 5)\n",
    "W = model.fit_transform(tfidf1_train)\n",
    "label_permute_compare(y_train_,W,n=5)"
   ]
  },
  {
   "cell_type": "code",
   "execution_count": 1596,
   "id": "f00b20dd-97ed-4ff2-bdee-aa13e77fcad7",
   "metadata": {},
   "outputs": [
    {
     "data": {
      "text/plain": [
       "(0.8935185185185185,\n",
       " {2: 'business', 3: 'entertainment', 0: 'politics', 1: 'sport', 4: 'tech'})"
      ]
     },
     "execution_count": 1596,
     "metadata": {},
     "output_type": "execute_result"
    }
   ],
   "source": [
    "tfidf1_val = tfidf1.transform(X_val_['Text'])  \n",
    "W_val = model.transform(tfidf1_val) \n",
    "label_permute_compare(y_val_, W_val, n=5)"
   ]
  },
  {
   "cell_type": "code",
   "execution_count": 1704,
   "id": "2974d163-b1f9-45ef-b331-866cde887845",
   "metadata": {},
   "outputs": [
    {
     "data": {
      "text/plain": [
       "(0.9142156862745098,\n",
       " {2: 'business', 3: 'entertainment', 0: 'politics', 1: 'sport', 4: 'tech'})"
      ]
     },
     "execution_count": 1704,
     "metadata": {},
     "output_type": "execute_result"
    }
   ],
   "source": [
    "tfidf1 = TfidfVectorizer(min_df=0.0, max_df = 1.0, norm = 'l1', stop_words = 'english')\n",
    "tfidf1_train = tfidf1.fit_transform(X_train_['Text'])\n",
    "model = NMF(n_components=5, \n",
    "                init='nndsvda', \n",
    "                solver = 'mu',\n",
    "                beta_loss = 'kullback-leibler',\n",
    "                l1_ratio = 0.5,\n",
    "                random_state = 101)\n",
    "W = model.fit_transform(tfidf1_train)\n",
    "label_permute_compare(y_train_,W,n=5)"
   ]
  },
  {
   "cell_type": "code",
   "execution_count": 1706,
   "id": "6e401959-586a-479e-9288-8cc60e82d631",
   "metadata": {},
   "outputs": [
    {
     "data": {
      "text/plain": [
       "(0.9537037037037037,\n",
       " {2: 'business', 3: 'entertainment', 0: 'politics', 1: 'sport', 4: 'tech'})"
      ]
     },
     "execution_count": 1706,
     "metadata": {},
     "output_type": "execute_result"
    }
   ],
   "source": [
    "tfidf1_val = tfidf1.transform(X_val_['Text'])  \n",
    "W_val = model.transform(tfidf1_val) \n",
    "label_permute_compare(y_val_, W_val, n=5)"
   ]
  },
  {
   "cell_type": "code",
   "execution_count": 1708,
   "id": "87ad7d7a-1cb6-46d1-b1e4-f2cf198b695a",
   "metadata": {},
   "outputs": [],
   "source": [
    "#parameters to test\n",
    "norm = 'l1','l2'\n",
    "min_df = range(1,15,1)\n",
    "max_df = [0.5,0.55,0.6,0.65,0.7,0.75,0.8,0.85,0.9,0.95,1.0]\n",
    "\n",
    "#parameters used\n",
    "norm_arr = []\n",
    "min_arr = []\n",
    "max_arr = []\n",
    "#accuracy score\n",
    "combined_accuracy = []\n",
    "train_accuracy = []\n",
    "val_accuracy = []\n",
    "\n",
    "\n",
    "\n",
    "\n",
    "for norm_i in norm:\n",
    "    for min_i in min_df:\n",
    "        for max_i in max_df:\n",
    "\n",
    "            tfidf1 = TfidfVectorizer(min_df=min_i, max_df = max_i, norm = norm_i, stop_words = 'english')\n",
    "            tfidf1_train = tfidf1.fit_transform(X_train_['Text'])\n",
    "            model = NMF(n_components=5, \n",
    "                init='nndsvda', \n",
    "                solver = 'mu',\n",
    "                beta_loss = 'kullback-leibler',\n",
    "                l1_ratio = 0.5,\n",
    "                random_state = 101)\n",
    "            W = model.fit_transform(tfidf1_train)\n",
    "            train_acc = label_permute_compare(y_train_,W,n=5)[0]\n",
    "            \n",
    "\n",
    "            tfidf1_val = tfidf1.transform(X_val_['Text'])  \n",
    "            W_val = model.transform(tfidf1_val) \n",
    "            val_acc = label_permute_compare(y_val_, W_val, n=5)[0]\n",
    "\n",
    "            \n",
    "            \n",
    "            norm_arr.append(norm_i)\n",
    "            min_arr.append(min_i)\n",
    "            max_arr.append(max_i)\n",
    "            \n",
    "            \n",
    "            train_accuracy.append(train_acc)\n",
    "            val_accuracy.append(val_acc)\n",
    "            combined_accuracy.append((train_acc+val_acc)/2)\n",
    "\n"
   ]
  },
  {
   "cell_type": "code",
   "execution_count": 1709,
   "id": "f4ecfeb8-e5d2-4a58-81c6-f580922a61ea",
   "metadata": {},
   "outputs": [
    {
     "name": "stdout",
     "output_type": "stream",
     "text": [
      "Max combined accuracy 0.9598311546840959\n",
      "Max train accuracy 0.9566993464052288\n",
      "Max val accuracy 0.9629629629629629\n",
      "Max combined index 23\n",
      "Max train index 23\n",
      "Max val index 23\n"
     ]
    }
   ],
   "source": [
    "print(f'Max combined accuracy {max(combined_accuracy)}')\n",
    "print(f'Max train accuracy {max(train_accuracy)}')\n",
    "print(f'Max val accuracy {max(val_accuracy)}')\n",
    "\n",
    "print(f'Max combined index {combined_accuracy.index(max(combined_accuracy))}')\n",
    "print(f'Max train index {train_accuracy.index(max(train_accuracy))}')\n",
    "print(f'Max val index {val_accuracy.index(max(val_accuracy))}')"
   ]
  },
  {
   "cell_type": "code",
   "execution_count": 1711,
   "id": "126bc479-30c1-4bab-bcba-2fe5abc18979",
   "metadata": {},
   "outputs": [
    {
     "data": {
      "image/png": "[encoded data removed]",
      "text/plain": [
       "<Figure size 1000x600 with 1 Axes>"
      ]
     },
     "metadata": {},
     "output_type": "display_data"
    }
   ],
   "source": [
    "components = np.arange(len(val_accuracy))  # X-axis: components (0, 1, 2,...)\n",
    "\n",
    "plt.figure(figsize=(10, 6))\n",
    "plt.plot(components, val_accuracy, label='Validation Accuracy')\n",
    "plt.plot(components, train_accuracy, label='Training Accuracy')\n",
    "plt.plot(components, combined_accuracy, label='Combined Accuracy')\n",
    "\n",
    "# Adding titles and labels\n",
    "plt.title('Accuracy vs Complexity')\n",
    "plt.xlabel('Complexity')\n",
    "plt.ylabel('Accuracy')\n",
    "plt.legend()\n",
    "\n",
    "# Show the plot\n",
    "plt.grid(True)\n",
    "plt.show()"
   ]
  },
  {
   "cell_type": "code",
   "execution_count": 1744,
   "id": "18e5a958-31a0-4f6b-b6f4-6800e3b0e6c6",
   "metadata": {},
   "outputs": [
    {
     "name": "stdout",
     "output_type": "stream",
     "text": [
      "train accuracy 0.9566993464052288, label map: {0: 'business', 3: 'entertainment', 2: 'politics', 1: 'sport', 4: 'tech'}\n",
      "validation accuracy: 0.9629629629629629, label map: {0: 'business', 3: 'entertainment', 2: 'politics', 1: 'sport', 4: 'tech'}\n"
     ]
    }
   ],
   "source": [
    "index = val_accuracy.index(max(val_accuracy))\n",
    "\n",
    "tfidf1 = TfidfVectorizer(min_df=min_arr[index], max_df = max_arr[index], norm = norm_arr[index], stop_words = 'english')\n",
    "tfidf1_train = tfidf1.fit_transform(X_train_['Text'])\n",
    "\n",
    "model = NMF(n_components=5, \n",
    "                init='nndsvda', \n",
    "                solver = 'mu',\n",
    "                beta_loss = 'kullback-leibler',\n",
    "                l1_ratio = 0.5,\n",
    "                random_state = 101) \n",
    "W = model.fit_transform(tfidf1_train)\n",
    "train_acc, label_map = label_permute_compare(y_train_,W,n=5)\n",
    "print(f'train accuracy {train_acc}, label map: {label_map}')\n",
    "\n",
    "tfidf1_val = tfidf1.transform(X_val_['Text'])  \n",
    "W_val = model.transform(tfidf1_val) \n",
    "val_acc, label_map = label_permute_compare(y_val_, W_val, n=5)\n",
    "print(f'validation accuracy: {val_acc}, label map: {label_map}')"
   ]
  },
  {
   "cell_type": "code",
   "execution_count": 1713,
   "id": "f5cec60e-bee4-4b35-a21d-a0732c56686d",
   "metadata": {},
   "outputs": [],
   "source": [
    "tfidf1_test = tfidf1.transform(test['Text'])  \n",
    "W_test = model.transform(tfidf1_test) "
   ]
  },
  {
   "cell_type": "code",
   "execution_count": 1714,
   "id": "cc2e724b-e701-42c7-b2d9-e1f801ca64a5",
   "metadata": {},
   "outputs": [],
   "source": [
    "yp = np.array([np.argmax(i) for i in W_test])"
   ]
  },
  {
   "cell_type": "code",
   "execution_count": 1715,
   "id": "932b757c-7c19-4c2f-8de6-67bed77c74c1",
   "metadata": {},
   "outputs": [
    {
     "name": "stdout",
     "output_type": "stream",
     "text": [
      "[1 4 1 0 1 1 2 2 3 0 0 4 2 4 3 1 2 4 3 2 0 2 1 0 2 1 0 1 1 0 2 4 0 0 1 1 1\n",
      " 0 3 2 4 2 3 4 1 4 3 0 2 0 2 0 0 0 4 2 4 3 1 4 1 3 4 2 0 3 1 4 1 1 4 1 0 2\n",
      " 4 1 4 4 4 3 2 1 3 3 0 3 0 3 0 4 3 2 1 4 1 1 1 1 1 1 2 1 2 3 0 1 2 1 2 3 1\n",
      " 0 3 1 2 1 2 1 2 0 3 0 3 3 4 1 0 3 0 3 0 2 2 4 0 0 2 4 3 1 0 4 1 3 2 1 1 3\n",
      " 3 4 0 4 2 3 1 1 1 1 3 4 0 4 0 4 0 4 3 4 4 2 0 2 0 0 3 2 4 0 0 4 1 2 1 2 4\n",
      " 4 2 0 2 3 2 0 3 1 4 4 0 4 2 0 1 2 0 3 0 0 1 4 0 1 3 3 1 3 1 4 2 3 1 3 1 3\n",
      " 2 0 4 3 0 2 0 4 0 1 2 2 2 2 1 0 2 2 1 2 0 1 4 0 2 0 2 0 0 1 4 2 4 4 3 4 1\n",
      " 1 4 1 1 1 3 1 2 4 0 1 0 1 0 1 3 0 0 3 2 0 1 1 4 1 1 3 0 1 4 2 3 0 0 2 1 3\n",
      " 2 0 1 1 4 3 1 0 4 0 1 2 2 3 2 3 2 0 2 4 0 1 4 3 2 1 2 2 4 2 1 4 2 4 4 3 2\n",
      " 4 2 0 2 1 4 3 3 0 1 4 4 3 4 0 1 3 4 0 2 4 4 2 2 1 0 4 1 2 2 0 4 1 2 0 2 2\n",
      " 4 4 0 0 1 1 1 4 4 2 4 2 2 0 1 1 3 3 1 4 4 1 4 3 2 4 1 0 2 3 0 4 1 2 0 0 2\n",
      " 4 1 3 0 4 0 4 4 1 2 0 4 1 2 0 4 4 2 4 0 2 0 3 0 3 2 3 1 0 2 0 1 3 0 3 3 1\n",
      " 4 3 4 0 2 3 2 2 1 0 1 2 3 3 0 0 1 2 4 0 2 0 1 1 2 1 4 0 2 1 2 4 0 2 4 2 2\n",
      " 3 4 1 1 2 0 4 2 1 1 3 0 3 3 0 2 1 2 4 4 0 2 1 0 1 0 2 0 1 2 4 1 2 0 4 2 1\n",
      " 2 3 1 2 0 0 0 4 2 2 1 0 4 4 4 1 4 2 4 0 1 2 2 0 4 4 1 4 0 1 0 0 0 2 2 3 3\n",
      " 3 2 4 4 2 3 0 1 1 2 3 2 1 0 0 0 3 4 1 0 2 2 4 2 1 2 0 4 0 1 1 4 1 3 4 3 4\n",
      " 1 2 2 4 2 2 3 2 0 0 4 0 0 0 1 3 0 1 4 1 4 0 2 1 0 1 1 2 2 4 1 0 1 0 1 1 2\n",
      " 4 4 4 0 1 4 0 3 0 3 1 4 0 0 0 2 1 3 4 0 1 3 0 3 0 2 1 1 0 4 1 0 0 0 3 0 3\n",
      " 4 1 2 4 2 4 1 4 3 0 0 3 2 1 1 1 3 4 2 3 1 1 2 4 2 3 1 3 1 4 4 1 2 0 4 3 0\n",
      " 4 0 0 1 3 2 3 4 2 0 2 1 4 4 2 3 0 4 3 3 2 0 0 2 2 4 1 0 3 2 0 2]\n"
     ]
    }
   ],
   "source": [
    "print(yp)"
   ]
  },
  {
   "cell_type": "code",
   "execution_count": 1666,
   "id": "77a056c8-92cc-48fc-870e-a2960876ab02",
   "metadata": {},
   "outputs": [
    {
     "name": "stdout",
     "output_type": "stream",
     "text": [
      "test score:0.96054, 96%\n"
     ]
    }
   ],
   "source": [
    "test_sub = pd.DataFrame(columns=[\"ArticleId\", \"Category\"])\n",
    "test_sub[\"ArticleId\"] = test.ArticleId\n",
    "test_sub[\"Category\"] = [label_map[l] for l in yp]\n",
    "test_sub.to_csv(\"submission.csv\", index=False)\n",
    "print('test score:0.96054, 96%')"
   ]
  },
  {
   "cell_type": "markdown",
   "id": "e0e2bef8-5a19-4860-b59f-2abe644230c2",
   "metadata": {},
   "source": [
    "The test score was roughly 96%. I will see if I can beat this score using supervised models."
   ]
  },
  {
   "cell_type": "markdown",
   "id": "8245db41-a302-4796-a270-d5bd0eb42b0f",
   "metadata": {},
   "source": [
    "# 4. Supervised Learning Models\n",
    "I will train various supervised models and pick the best one, based on the validation data, to use for predicting the test function.\n",
    "For classification, I have chosen a decision tree model, a logistic regression model, a KNN  model, and an ensemble adaboost model."
   ]
  },
  {
   "cell_type": "markdown",
   "id": "cba6dcf5-f3af-4e15-b20e-1f6165f245d0",
   "metadata": {},
   "source": [
    "The previous TF-IDF was optimized for the specific NMF model. I will just use a generic TF-IDF for these models to avoid longer document runtimes."
   ]
  },
  {
   "cell_type": "code",
   "execution_count": 1836,
   "id": "a077ab25-d1ab-4845-90ab-0fe2a7fbc855",
   "metadata": {},
   "outputs": [],
   "source": [
    "\n",
    "tfidf1 = TfidfVectorizer(stop_words = 'english')\n",
    "tfidf1_train = tfidf1.fit_transform(X_train_['Text'])\n",
    "tfidf1_val = tfidf1.transform(X_val_['Text'])"
   ]
  },
  {
   "cell_type": "markdown",
   "id": "ede7bd06-b256-489b-8798-9e22bf59d95c",
   "metadata": {},
   "source": [
    "__Decision Tree Classifier__"
   ]
  },
  {
   "cell_type": "code",
   "execution_count": 1837,
   "id": "c587881f-5294-435f-9015-00cb6ccd3f4e",
   "metadata": {},
   "outputs": [
    {
     "data": {
      "text/plain": [
       "0.7916666666666666"
      ]
     },
     "execution_count": 1837,
     "metadata": {},
     "output_type": "execute_result"
    }
   ],
   "source": [
    "clf = DecisionTreeClassifier(max_leaf_nodes=200,max_depth=300)\n",
    "clf.fit(tfidf1_train, y_train_)\n",
    "pred = clf.predict(tfidf1_val)\n",
    "accuracy_score(y_val_, pred)"
   ]
  },
  {
   "cell_type": "markdown",
   "id": "8f3992d7-beba-41b7-a0d3-b15ab6858628",
   "metadata": {},
   "source": [
    "__Logistic Regression__"
   ]
  },
  {
   "cell_type": "code",
   "execution_count": 1840,
   "id": "8425eaab-a6a0-4200-9a95-f7f5ddda9ea2",
   "metadata": {},
   "outputs": [
    {
     "data": {
      "text/plain": [
       "0.9675925925925926"
      ]
     },
     "execution_count": 1840,
     "metadata": {},
     "output_type": "execute_result"
    }
   ],
   "source": [
    "tfidf1_val = tfidf1.transform(X_val_['Text'])\n",
    "model1 = LogisticRegression(multi_class='multinomial', solver='lbfgs', C=1.0, max_iter=1000)\n",
    "model1.fit(tfidf1_train, y_train_)\n",
    "pred = model1.predict(tfidf1_val)\n",
    "accuracy_score(y_val_, pred)"
   ]
  },
  {
   "cell_type": "markdown",
   "id": "cb7e27c8-af05-453a-b907-d5d8a1dd79d0",
   "metadata": {},
   "source": [
    "__KNN__"
   ]
  },
  {
   "cell_type": "code",
   "execution_count": 1844,
   "id": "856aee31-d57f-43e7-9e1f-e79dc0c2da70",
   "metadata": {},
   "outputs": [
    {
     "data": {
      "text/plain": [
       "0.9629629629629629"
      ]
     },
     "execution_count": 1844,
     "metadata": {},
     "output_type": "execute_result"
    }
   ],
   "source": [
    "neigh = KNeighborsClassifier(n_neighbors=50)\n",
    "neigh.fit(tfidf1_train, y_train_)\n",
    "pred = neigh.predict(tfidf1_val)\n",
    "accuracy_score(y_val_, pred)"
   ]
  },
  {
   "cell_type": "markdown",
   "id": "37960a44-3579-465b-bfd2-94cb2d4528d3",
   "metadata": {},
   "source": [
    "__ADA Boost w/ Decision Tree__"
   ]
  },
  {
   "cell_type": "code",
   "execution_count": 1850,
   "id": "1f4d3266-661d-4edb-a342-156840abadd8",
   "metadata": {},
   "outputs": [],
   "source": [
    "weak_learner = DecisionTreeClassifier(max_leaf_nodes=8)\n",
    "n_estimators = 300\n",
    "\n",
    "adaboost_clf = AdaBoostClassifier(\n",
    "    estimator=weak_learner,\n",
    "    n_estimators=n_estimators,\n",
    "    algorithm=\"SAMME\",\n",
    "    random_state=42,\n",
    ").fit(tfidf1_train, y_train_)"
   ]
  },
  {
   "cell_type": "code",
   "execution_count": 1852,
   "id": "dbb37946-72d6-4722-8abf-10e999987654",
   "metadata": {},
   "outputs": [
    {
     "data": {
      "text/plain": [
       "0.9120370370370371"
      ]
     },
     "execution_count": 1852,
     "metadata": {},
     "output_type": "execute_result"
    }
   ],
   "source": [
    "pred = adaboost_clf.predict(tfidf1_val)\n",
    "accuracy_score(y_val_, pred)"
   ]
  },
  {
   "cell_type": "markdown",
   "id": "6c1f8290-c357-44db-81b1-3800663559a9",
   "metadata": {},
   "source": [
    "### The best model was the logistic regression model, so I will submit the test data and see if this performs better than NMF"
   ]
  },
  {
   "cell_type": "code",
   "execution_count": 1860,
   "id": "61ed6461-4f4a-4337-917b-8c1f798c5417",
   "metadata": {},
   "outputs": [],
   "source": [
    "tfidf1_test = tfidf1.transform(X_test) \n",
    "model1 = LogisticRegression(multi_class='multinomial', solver='lbfgs', C=1.0, max_iter=1000)\n",
    "model1.fit(tfidf1_train, y_train_)\n",
    "pred = model1.predict(tfidf1_test)"
   ]
  },
  {
   "cell_type": "code",
   "execution_count": 1864,
   "id": "cea26683-b69d-4688-a01d-eb5627eea9ce",
   "metadata": {},
   "outputs": [
    {
     "name": "stdout",
     "output_type": "stream",
     "text": [
      "test score:0.98367, 98.3%\n"
     ]
    }
   ],
   "source": [
    "test_sup = pd.DataFrame(columns=[\"ArticleId\", \"Category\"])\n",
    "test_sup[\"ArticleId\"] = test.ArticleId\n",
    "test_sup[\"Category\"] = pred\n",
    "test_sup.to_csv(\"submission1.csv\", index=False)\n",
    "print('test score:0.98367, 98.3%')"
   ]
  },
  {
   "cell_type": "code",
   "execution_count": 1866,
   "id": "dcd17212-549b-4492-99cd-583bbbda47aa",
   "metadata": {},
   "outputs": [
    {
     "name": "stdout",
     "output_type": "stream",
     "text": [
      "+-----------------------------------+------------+\n",
      "| Method                            |   Accuracy |\n",
      "+===================================+============+\n",
      "| AdaBoost                          |     0.912  |\n",
      "+-----------------------------------+------------+\n",
      "| Decision Tree                     |     0.9101 |\n",
      "+-----------------------------------+------------+\n",
      "| KNN                               |     0.963  |\n",
      "+-----------------------------------+------------+\n",
      "| Logistic Regression               |     0.968  |\n",
      "+-----------------------------------+------------+\n",
      "| Non-negative Matrix Factorization |     0.963  |\n",
      "+-----------------------------------+------------+\n"
     ]
    }
   ],
   "source": [
    "from tabulate import tabulate\n",
    "\n",
    "\n",
    "data = [['AdaBoost','.912'],\n",
    "       ['Decision Tree','.792'],\n",
    "       ['KNN','.963'],\n",
    "       ['Logistic Regression','.968'],\n",
    "       ['Non-negative Matrix Factorization','.963']]\n",
    "head = ['Method', 'Accuracy']\n",
    "\n",
    "print(tabulate(data, headers=head, tablefmt=\"grid\"))"
   ]
  },
  {
   "cell_type": "code",
   "execution_count": null,
   "id": "8e253d7d-afb6-4341-a430-522ce668a092",
   "metadata": {},
   "outputs": [],
   "source": []
  }
 ],
 "metadata": {
  "kernelspec": {
   "display_name": "Python 3 (ipykernel)",
   "language": "python",
   "name": "python3"
  },
  "language_info": {
   "codemirror_mode": {
    "name": "ipython",
    "version": 3
   },
   "file_extension": ".py",
   "mimetype": "text/x-python",
   "name": "python",
   "nbconvert_exporter": "python",
   "pygments_lexer": "ipython3",
   "version": "3.12.4"
  }
 },
 "nbformat": 4,
 "nbformat_minor": 5
}
